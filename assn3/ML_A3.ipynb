{
 "cells": [
  {
   "cell_type": "code",
   "execution_count": 10,
   "metadata": {},
   "outputs": [],
   "source": [
    "import numpy as np\n",
    "import pandas as pd\n",
    "import datetime as dt\n",
    "from sklearn.linear_model import LinearRegression\n",
    "from sklearn.linear_model import LogisticRegression\n",
    "from sklearn.metrics import r2_score\n",
    "from sklearn.tree import DecisionTreeRegressor\n",
    "from sklearn.metrics import mean_absolute_error\n",
    "from sklearn.neighbors import KNeighborsRegressor\n",
    "from sklearn.model_selection import train_test_split,KFold\n",
    "from sklearn.ensemble import RandomForestRegressor\n",
    "import time\n",
    "from sklearn.preprocessing import StandardScaler\n",
    "from sklearn.linear_model import Lasso\n",
    "\n",
    "\n"
   ]
  },
  {
   "cell_type": "code",
   "execution_count": 2,
   "metadata": {},
   "outputs": [],
   "source": [
    "dataset=pd.read_csv(\"train.csv\")\n"
   ]
  },
  {
   "cell_type": "code",
   "execution_count": 3,
   "metadata": {},
   "outputs": [],
   "source": [
    "o3=dataset[\"OZONE\"]\n",
    "no2=dataset[\"NO2\"]"
   ]
  },
  {
   "cell_type": "code",
   "execution_count": 4,
   "metadata": {},
   "outputs": [],
   "source": [
    "time1=dataset[\"Time\"]\n",
    "unix_timestamps = [dt.datetime.strptime(ts, '%Y-%m-%d %H:%M:%S').timestamp() for ts in time1]\n",
    "some_features=dataset.iloc[:,5:]\n",
    "all_features=dataset.iloc[:,3:] \n",
    "all_features = pd.concat([all_features, pd.Series(unix_timestamps)],axis=1)\n",
    "all_features = all_features.rename(columns={0: 'Time'})\n",
    "# print(some_features)\n",
    "# print(all_features)\n"
   ]
  },
  {
   "cell_type": "code",
   "execution_count": 6,
   "metadata": {},
   "outputs": [],
   "source": [
    "test_data=pd.read_csv(\"dummy_test.csv\")\n",
    "time1=test_data[\"Time\"]\n",
    "unix_timestamps = [dt.datetime.strptime(ts, '%Y-%m-%d %H:%M:%S').timestamp() for ts in time1]\n",
    "test_all=test_data.iloc[:,3:]\n",
    "test_all = pd.concat([test_all, pd.Series(unix_timestamps)],axis=1)\n",
    "test_all = test_all.rename(columns={0: 'Time'})\n",
    "test_features=test_data.iloc[:,5:]\n",
    "test_o3=test_data[\"OZONE\"]\n",
    "test_no2=test_data[\"NO2\"]"
   ]
  },
  {
   "cell_type": "code",
   "execution_count": 8,
   "metadata": {},
   "outputs": [],
   "source": [
    "min_o3=np.min(o3)\n",
    "max_o3=np.max(o3)\n",
    "min_no2=np.min(no2)\n",
    "max_no2=np.min(no2)\n"
   ]
  },
  {
   "cell_type": "markdown",
   "metadata": {},
   "source": [
    "## Linear Regression"
   ]
  },
  {
   "cell_type": "code",
   "execution_count": 32,
   "metadata": {},
   "outputs": [
    {
     "name": "stdout",
     "output_type": "stream",
     "text": [
      "MAE of NO2 6.401693285490042 MAE of O3 5.186773650546027 \n"
     ]
    }
   ],
   "source": [
    "model_o3=LinearRegression()\n",
    "model_no2=LinearRegression()\n",
    "\n",
    "model_o3.fit(all_features,o3)\n",
    "model_no2.fit(all_features,no2)\n",
    "\n",
    "pred_o3=model_o3.predict(all_features)\n",
    "pred_no2=model_no2.predict(all_features)\n",
    "\n",
    "mae_no2 = mean_absolute_error(no2, pred_no2)\n",
    "mae_o3 = mean_absolute_error(o3, pred_o3)\n",
    "\n",
    "print(f\"MAE of NO2 {mae_no2} MAE of O3 {mae_o3} \")\n"
   ]
  },
  {
   "cell_type": "code",
   "execution_count": 69,
   "metadata": {},
   "outputs": [
    {
     "name": "stderr",
     "output_type": "stream",
     "text": [
      "C:\\Users\\Yash\\anaconda3\\lib\\site-packages\\sklearn\\linear_model\\_coordinate_descent.py:529: ConvergenceWarning: Objective did not converge. You might want to increase the number of iterations. Duality gap: 186570.70991113572, tolerance: 235.49076648388356\n",
      "  model = cd_fast.enet_coordinate_descent(\n"
     ]
    },
    {
     "name": "stdout",
     "output_type": "stream",
     "text": [
      "MAE of NO2: 6.534249928499446\n",
      "MAE of O3: 5.627557675371524\n"
     ]
    },
    {
     "name": "stderr",
     "output_type": "stream",
     "text": [
      "C:\\Users\\Yash\\anaconda3\\lib\\site-packages\\sklearn\\linear_model\\_coordinate_descent.py:529: ConvergenceWarning: Objective did not converge. You might want to increase the number of iterations. Duality gap: 3306.6620221980847, tolerance: 707.672918246965\n",
      "  model = cd_fast.enet_coordinate_descent(\n"
     ]
    }
   ],
   "source": [
    "model_o3=LinearRegression()\n",
    "model_no2=LinearRegression()\n",
    "\n",
    "scaler = StandardScaler()\n",
    "X_train = scaler.fit_transform(some_features)\n",
    "X_test = scaler.transform(some_features)\n",
    "\n",
    "lasso_no2 = Lasso(alpha=0.1)\n",
    "lasso_no2.fit(some_features, no2)\n",
    "y_pred_no2 = lasso_no2.predict(some_features)\n",
    "mae_no2 = mean_absolute_error(no2, y_pred_no2)\n",
    "print('MAE of NO2:', mae_no2)\n",
    "\n",
    "# Train a Lasso regression model for O3\n",
    "lasso_o3 = Lasso(alpha=0.1)\n",
    "lasso_o3.fit(some_features, o3)\n",
    "y_pred_o3 = lasso_o3.predict(some_features)\n",
    "mae_o3 = mean_absolute_error(o3, y_pred_o3)\n",
    "print('MAE of O3:', mae_o3)"
   ]
  },
  {
   "cell_type": "markdown",
   "metadata": {},
   "source": [
    "## For O3 you have to use all features and for no2 you have to use only 4 features\n",
    "## Decision Tree"
   ]
  },
  {
   "cell_type": "code",
   "execution_count": 27,
   "metadata": {},
   "outputs": [
    {
     "name": "stdout",
     "output_type": "stream",
     "text": [
      "MAE of NO2 2.8255330905132188 MAE of O3 4.038019898644441 \n",
      "R2 score of NO2 0.7638767517112978 and R2 score of O3 0.895287868529178 \n"
     ]
    },
    {
     "data": {
      "text/plain": [
       "343250"
      ]
     },
     "execution_count": 27,
     "metadata": {},
     "output_type": "execute_result"
    }
   ],
   "source": [
    "X_train, X_test, y_train, y_test = train_test_split(all_features, o3, test_size=0.2)\n",
    "X_train1, X_test1, y_train1, y_test1 = train_test_split(all_features, no2, test_size=0.2)\n",
    "\n",
    "model_o3 = DecisionTreeRegressor(max_depth=11)\n",
    "model_no2 = DecisionTreeRegressor(max_depth=11)\n",
    "\n",
    "model_o3.fit(X_train, y_train)\n",
    "model_no2.fit(X_train1,y_train1)\n",
    "\n",
    "pred_o3 = model_o3.predict(X_test)\n",
    "pred_no2 = model_no2.predict(X_test1)\n",
    "\n",
    "mae_no2 = mean_absolute_error(y_test1, pred_no2)\n",
    "mae_o3 = mean_absolute_error(y_test, pred_o3)\n",
    "r2_no2 = r2_score(y_test1, pred_no2)\n",
    "r2_o3 = r2_score(y_test, pred_o3)\n",
    "\n",
    "print(f\"MAE of NO2 {mae_no2} MAE of O3 {mae_o3} \")\n",
    "print(f\"R2 score of NO2 {r2_no2} and R2 score of O3 {r2_o3} \")\n",
    "with open('model_o3.pkl', 'wb') as f:\n",
    "    pickle.dump(model_o3, f)\n",
    "with open('model_no2.pkl', 'wb') as f:\n",
    "    pickle.dump(model_no2, f)\n",
    "    \n",
    "model_size=os.path.getsize('model_o3.pkl')\n",
    "model_size+=os.path.getsize('model_no2.pkl')\n",
    "model_size"
   ]
  },
  {
   "cell_type": "markdown",
   "metadata": {},
   "source": [
    "## KNN"
   ]
  },
  {
   "cell_type": "code",
   "execution_count": null,
   "metadata": {},
   "outputs": [],
   "source": [
    "k = 5  # Number of folds\n",
    "kf = KFold(n_splits=k, shuffle=True, random_state=42)\n",
    "\n",
    "X_train, X_test, y_train, y_test = train_test_split(all_features, o3, test_size=0.2)\n",
    "X_train1, X_test1, y_train1, y_test1 = train_test_split(all_features, no2, test_size=0.2)\n",
    "\n",
    "model_o3 = KNeighborsRegressor(n_neighbors=11)\n",
    "model_no2 = KNeighborsRegressor(n_neighbors=11)\n",
    "\n",
    "for fold, (train_index, val_index) in enumerate(kf.split(X_train)):\n",
    "    X_fold_train, X_fold_val = X_train[train_index], X_train[val_index]\n",
    "    y_fold_train, y_fold_val = y_train[train_index], y_train[val_index]\n",
    "    model_o3.fit(X_fold_train, y_fold_train)\n",
    "    \n",
    "    \n",
    "    # Here you can train and evaluate your model using X_fold_train, y_fold_train, X_fold_val, and y_fold_val\n",
    "    # For simplicity, let's print the fold number and the sizes of the training and validation sets\n",
    "    print(f\"Fold {fold+1} - Train: {len(X_fold_train)}, Validation: {len(X_fold_val)}\")\n",
    "\n",
    "# After training and evaluating on the validation sets, you can use X_test and y_test for final evaluation\n",
    "print(f\"Test set - Size: {len(X_test)}\")\n",
    "MAE of NO2 1.9481532727272728 MAE of O3 3.2231490454545457 \n"
   ]
  },
  {
   "cell_type": "code",
   "execution_count": 58,
   "metadata": {},
   "outputs": [
    {
     "name": "stdout",
     "output_type": "stream",
     "text": [
      "MAE of NO2 1.6493794800000003 MAE of O3 3.2978188800000003 \n",
      "R2 score of NO2 0.9275290445918974 and R2 score of O3 0.9296052621801095\n"
     ]
    }
   ],
   "source": [
    "model_o3 = KNeighborsRegressor(n_neighbors=5)\n",
    "model_no2 = KNeighborsRegressor(n_neighbors=5)\n",
    "\n",
    "X_train, X_test, y_train, y_test = train_test_split(all_features, o3, test_size=0.25)\n",
    "X_train1, X_test1, y_train1, y_test1 = train_test_split(all_features, no2, test_size=0.25)\n",
    "\n",
    "model_o3.fit(X_train, y_train)\n",
    "model_no2.fit(X_train1,y_train1)\n",
    "\n",
    "pred_o3 = model_o3.predict(X_test)\n",
    "pred_no2 = model_no2.predict(X_test1)\n",
    "\n",
    "mae_no2 = mean_absolute_error(y_test1, pred_no2)\n",
    "mae_o3 = mean_absolute_error(y_test, pred_o3)\n",
    "r2_no2 = r2_score(y_test1, pred_no2)\n",
    "r2_o3 = r2_score(y_test, pred_o3)\n",
    "\n",
    "print(f\"MAE of NO2 {mae_no2} MAE of O3 {mae_o3} \")\n",
    "print(f\"R2 score of NO2 {r2_no2} and R2 score of O3 {r2_o3}\" )"
   ]
  },
  {
   "cell_type": "code",
   "execution_count": 17,
   "metadata": {},
   "outputs": [
    {
     "name": "stdout",
     "output_type": "stream",
     "text": [
      "0.14892148971557617\n",
      "MAE of NO2 1.9456624791666666 MAE of O3 3.151254729166667 \n",
      "R2 score of NO2 0.9120815834326994 and R2 score of O3 0.9326390990070587\n"
     ]
    }
   ],
   "source": [
    "X_train, X_test, y_train, y_test = train_test_split(all_features, o3, test_size=0.2)\n",
    "X_train1, X_test1, y_train1, y_test1 = train_test_split(all_features, no2, test_size=0.2)\n",
    "\n",
    "model_o3 = KNeighborsRegressor(n_neighbors=12)\n",
    "model_no2 = KNeighborsRegressor(n_neighbors=12)\n",
    "tic=time.time()\n",
    "model_o3.fit(X_train, y_train)\n",
    "model_no2.fit(X_train1,y_train1)\n",
    "\n",
    "pred_o3 = model_o3.predict(X_test)\n",
    "pred_no2 = model_no2.predict(X_test1)\n",
    "\n",
    "mae_no2 = mean_absolute_error(y_test1, pred_no2)\n",
    "mae_o3 = mean_absolute_error(y_test, pred_o3)\n",
    "r2_no2 = r2_score(y_test1, pred_no2)\n",
    "r2_o3 = r2_score(y_test, pred_o3)\n",
    "\n",
    "with open('model_o3.pkl', 'wb') as f:\n",
    "    pickle.dump(model_o3, f)\n",
    "with open('model_no2.pkl', 'wb') as f:\n",
    "    pickle.dump(model_no2, f)\n",
    "print(time.time()-tic)    \n",
    "print(f\"MAE of NO2 {mae_no2} MAE of O3 {mae_o3} \")\n",
    "print(f\"R2 score of NO2 {r2_no2} and R2 score of O3 {r2_o3}\" )"
   ]
  },
  {
   "cell_type": "code",
   "execution_count": 23,
   "metadata": {},
   "outputs": [
    {
     "name": "stdout",
     "output_type": "stream",
     "text": [
      "0.04811239242553711\n",
      "MAE of NO2: 1.46755375\n",
      "MAE of O3: 19.463340499999997\n"
     ]
    }
   ],
   "source": [
    "import pickle\n",
    "X_train, X_test, y_train, y_test = train_test_split(all_features, o3, test_size=0.2)\n",
    "X_train, X_test, y_train1, y_test1 = train_test_split(all_features, no2, test_size=0.2)\n",
    "all_features=pd.DataFrame(all_features)\n",
    "# train model\n",
    "tic=time.time()\n",
    "model = KNeighborsRegressor(n_neighbors=1)\n",
    "model.fit(X_train, np.column_stack((y_train, y_train1)))\n",
    "\n",
    "# predict on test set\n",
    "pred = model.predict(X_test)\n",
    "pred_o3 = pred[:, 0]\n",
    "pred_no2 = pred[:, 1]\n",
    "\n",
    "# calculate metrics\n",
    "mae_o3 = mean_absolute_error(y_test, pred_o3)\n",
    "mae_no2 = mean_absolute_error(y_test1, pred_no2)\n",
    "print(time.time()-tic)\n",
    "\n",
    "# save model using pickle\n",
    "with open(\"final\", \"wb\") as f:\n",
    "    pickle.dump(model, f)\n",
    "\n",
    "# print metrics\n",
    "print(f\"MAE of NO2: {mae_no2}\")\n",
    "print(f\"MAE of O3: {mae_o3}\")"
   ]
  },
  {
   "cell_type": "markdown",
   "metadata": {},
   "source": [
    "## Random Forest"
   ]
  },
  {
   "cell_type": "code",
   "execution_count": 18,
   "metadata": {},
   "outputs": [
    {
     "name": "stdout",
     "output_type": "stream",
     "text": [
      "MAE on training set for NO2: 1.6769377198313096\n",
      "MAE on training set for O3: 3.1551465440604636\n",
      "19.609964847564697\n"
     ]
    },
    {
     "data": {
      "text/plain": [
       "411820030"
      ]
     },
     "execution_count": 18,
     "metadata": {},
     "output_type": "execute_result"
    }
   ],
   "source": [
    "import pickle,os\n",
    "X_train, X_test, y_train, y_test = train_test_split(all_features, o3, test_size=0.2)\n",
    "X_train1, X_test1, y_train1, y_test1 = train_test_split(all_features, no2, test_size=0.2)\n",
    "\n",
    "rf_o3 = RandomForestRegressor( max_depth=20, n_estimators=200)\n",
    "rf_no2 = RandomForestRegressor( max_depth=20, n_estimators=200)\n",
    "tic=time.time()\n",
    "rf_o3.fit(X_train,y_train)\n",
    "o3_mae_train = mean_absolute_error(y_test, rf_o3.predict(X_test))\n",
    "\n",
    "\n",
    "\n",
    "\n",
    "rf_no2.fit(X_train1,y_train1)\n",
    "no2_mae_train = mean_absolute_error(y_test1, rf_no2.predict(X_test1))\n",
    "toc=time.time()\n",
    "\n",
    "print('MAE on training set for NO2:', no2_mae_train)\n",
    "print('MAE on training set for O3:', o3_mae_train)\n",
    "\n",
    "print(toc-tic)\n",
    "with open('model_o3.pkl', 'wb') as f:\n",
    "    pickle.dump(rf_o3, f)\n",
    "with open('model_no2.pkl', 'wb') as f:\n",
    "    pickle.dump(rf_no2, f)\n",
    "model_size=os.path.getsize('model_o3.pkl')\n",
    "model_size+=os.path.getsize('model_no2.pkl')\n",
    "\n",
    "model_size"
   ]
  },
  {
   "cell_type": "code",
   "execution_count": 20,
   "metadata": {},
   "outputs": [],
   "source": [
    "import datetime as dt\n",
    "from sklearn.metrics import mean_absolute_error\n",
    "from sklearn.neighbors import KNeighborsRegressor\n",
    "from sklearn.model_selection import train_test_split\n",
    "import time\n",
    "import numpy as np\n",
    "import pandas as pd\n",
    "import pickle\n",
    "\n",
    "# Load the dataset\n",
    "dataset = pd.read_csv(\"train.csv\")\n",
    "\n",
    "# Separate the target variables\n",
    "o3 = dataset[\"OZONE\"]\n",
    "no2 = dataset[\"NO2\"]\n",
    "\n",
    "# Convert time to Unix timestamps\n",
    "time1 = dataset[\"Time\"]\n",
    "unix_timestamps = [dt.datetime.strptime(ts, '%Y-%m-%d %H:%M:%S').timestamp() for ts in time1]\n",
    "\n",
    "# Concatenate the features and the timestamps\n",
    "all_features = dataset.iloc[:, 3:]\n",
    "all_features.insert(0, 'Time', unix_timestamps)\n",
    "\n",
    "# Split the data into training and testing sets\n",
    "X_train, X_test, y_train, y_test = train_test_split(all_features, np.column_stack((o3, no2)), test_size=0.2)\n",
    "\n"
   ]
  },
  {
   "cell_type": "code",
   "execution_count": 22,
   "metadata": {},
   "outputs": [
    {
     "name": "stdout",
     "output_type": "stream",
     "text": [
      "0.05886483192443848\n",
      "MAE of NO2: 1.3949895\n",
      "MAE of O3: 3.2431185000000005\n",
      "2324448\n"
     ]
    }
   ],
   "source": [
    "# Train the model\n",
    "model = KNeighborsRegressor(n_neighbors=2)\n",
    "tic = time.time()\n",
    "model.fit(X_train, y_train)\n",
    "pred = model.predict(X_test)\n",
    "pred_o3 = pred[:, 0]\n",
    "pred_no2 = pred[:, 1]\n",
    "\n",
    "# Calculate metrics\n",
    "mae_o3 = mean_absolute_error(y_test[:, 0], pred_o3)\n",
    "mae_no2 = mean_absolute_error(y_test[:, 1], pred_no2)\n",
    "print(time.time() - tic)\n",
    "\n",
    "# Save the model using pickle\n",
    "with open(\"final\", \"wb\") as f:\n",
    "    pickle.dump(model, f)\n",
    "\n",
    "# Print metrics\n",
    "print(f\"MAE of NO2: {mae_no2}\")\n",
    "print(f\"MAE of O3: {mae_o3}\")\n",
    "print(os.path.getsize(\"final\"))"
   ]
  },
  {
   "cell_type": "code",
   "execution_count": null,
   "metadata": {},
   "outputs": [],
   "source": []
  }
 ],
 "metadata": {
  "kernelspec": {
   "display_name": "Python 3",
   "language": "python",
   "name": "python3"
  },
  "language_info": {
   "codemirror_mode": {
    "name": "ipython",
    "version": 3
   },
   "file_extension": ".py",
   "mimetype": "text/x-python",
   "name": "python",
   "nbconvert_exporter": "python",
   "pygments_lexer": "ipython3",
   "version": "3.9.4"
  }
 },
 "nbformat": 4,
 "nbformat_minor": 4
}
