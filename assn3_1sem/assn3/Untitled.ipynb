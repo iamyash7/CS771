{
 "cells": [
  {
   "cell_type": "code",
   "execution_count": 60,
   "id": "bc8257cb",
   "metadata": {},
   "outputs": [],
   "source": [
    "import cv2\n",
    "import numpy as np\n",
    "from matplotlib import pyplot as plt\n",
    "import sys\n",
    "import pytesseract\n",
    "from sklearn import svm\n",
    "from sklearn.multiclass import OneVsRestClassifier\n",
    "from sklearn.model_selection import GridSearchCV\n",
    "from sklearn.model_selection import RandomizedSearchCV\n",
    "from sklearn.model_selection import train_test_split\n",
    "from sklearn.metrics import accuracy_score\n",
    "from imutils import contours"
   ]
  },
  {
   "cell_type": "code",
   "execution_count": 61,
   "id": "06498f82",
   "metadata": {},
   "outputs": [],
   "source": [
    "def show(img):\n",
    "    edged=cv2.Canny(img,100,200)\n",
    "    cv2.imshow('image',img)\n",
    "    cv2.imshow('canny edges',edged)\n",
    "    cv2.waitKey(0)\n",
    "    cv2.destroyAllWindows()\n",
    "    "
   ]
  },
  {
   "cell_type": "code",
   "execution_count": 75,
   "id": "998c4189",
   "metadata": {},
   "outputs": [],
   "source": [
    "def bgclear(img):\n",
    "    # BG Remover 3\n",
    "    p = img[0][0]\n",
    "    img = img - p\n",
    "    img = cv2.cvtColor(img,cv2.COLOR_BGR2HSV)\n",
    "    kernel = np.ones((10,10), np.uint8)\n",
    "    img = cv2.erode(img, kernel,iterations=1)\n",
    "    return img\n",
    "def splitImages(img):\n",
    "    c = 0\n",
    "    l = []\n",
    "    j = np.zeros(img.shape[1])\n",
    "    for i in img.transpose():\n",
    "        if(np.sum(j)==0 and np.sum(i)!=0):\n",
    "            l.append(c)\n",
    "        if(np.sum(j)!=0 and np.sum(i)==0):\n",
    "            l.append(c)\n",
    "        j = i\n",
    "        c+=1\n",
    "    return l\n",
    "\n",
    "        \n",
    "            \n",
    "            \n",
    "        "
   ]
  },
  {
   "cell_type": "code",
   "execution_count": 82,
   "id": "c849df33",
   "metadata": {},
   "outputs": [
    {
     "name": "stdout",
     "output_type": "stream",
     "text": [
      "(150, 500, 3)\n"
     ]
    }
   ],
   "source": [
    "img = cv2.imread('train/335.png')\n",
    "# img = cv2.resize(img, (0, 0), fx = 0.6, fy = 0.6)\n",
    "# img = cv2.cvtColor(img,cv2.COLOR_BGR2HSV)\n",
    "# kernel = np.ones((5, 5), np.uint8)\n",
    "# show(img)\n",
    "# img = cv2.erode(img, kernel,iterations=1)\n",
    "# show(img)\n",
    "print(img.shape)\n",
    "img = bgclear(img)\n",
    "img = cv2.cvtColor(img,cv2.COLOR_BGR2GRAY)\n",
    "show(img)"
   ]
  },
  {
   "cell_type": "code",
   "execution_count": 84,
   "id": "66918c7d",
   "metadata": {},
   "outputs": [
    {
     "name": "stdout",
     "output_type": "stream",
     "text": [
      "[81, 149, 240, 320, 380, 438]\n"
     ]
    }
   ],
   "source": [
    "np.set_printoptions(threshold=sys.maxsize)\n",
    "print(splitImages(img))"
   ]
  },
  {
   "cell_type": "code",
   "execution_count": 71,
   "id": "7d3a1ee7",
   "metadata": {},
   "outputs": [],
   "source": [
    "img = cv2.erode(img, kernel,iterations=1)\n",
    "hh, ww = img.shape[:2]\n",
    "lower = np.array([200, 200, 200])\n",
    "upper = np.array([255, 255, 255])\n",
    "thresh = cv2.inRange(img, lower, upper)\n",
    "kernel = cv2.getStructuringElement(cv2.MORPH_ELLIPSE, (20,20))\n",
    "morph = cv2.morphologyEx(thresh, cv2.MORPH_CLOSE, kernel)\n",
    "mask = 255 - morph\n",
    "result = cv2.bitwise_and(img, img, mask=mask)\n",
    "cv2.imshow('thresh', thresh)\n",
    "cv2.imshow('morph', morph)\n",
    "cv2.imshow('mask', mask)\n",
    "cv2.imshow('result', result)\n",
    "cv2.waitKey(0)\n",
    "cv2.destroyAllWindows()"
   ]
  },
  {
   "cell_type": "code",
   "execution_count": 45,
   "id": "5623e21b",
   "metadata": {},
   "outputs": [],
   "source": [
    "kernel = np.ones((5, 5), np.uint8)\n",
    "kernel1 = np.ones((4, 4), np.uint8)\n",
    "img = cv2.dilate(img, kernel,iterations=1)\n",
    "# img = cv2.erode(img, kernel1,iterations=1)\n",
    "show(img)"
   ]
  },
  {
   "cell_type": "code",
   "execution_count": 46,
   "id": "ebde8f55",
   "metadata": {},
   "outputs": [
    {
     "data": {
      "text/plain": [
       "(150, 500)"
      ]
     },
     "execution_count": 46,
     "metadata": {},
     "output_type": "execute_result"
    }
   ],
   "source": [
    "img.shape"
   ]
  },
  {
   "cell_type": "code",
   "execution_count": null,
   "id": "8de7b21a",
   "metadata": {},
   "outputs": [],
   "source": [
    "edged=cv2.Canny(img3,100,200)\n",
    "img1 = edged[20:130,20:170]\n",
    "img2 = edged[20:130,200:350]\n",
    "img3 = edged[20:130,350:500]\n",
    "img1 = cv2.resize(img1, (0, 0), fx = 0.6, fy = 0.6)\n",
    "img2 = cv2.resize(img2, (0, 0), fx = 0.6, fy = 0.6)\n",
    "img3 = cv2.resize(img3, (0, 0), fx = 0.6, fy = 0.6)\n",
    "cv2.imshow('im1',img1)\n",
    "cv2.imshow('img2',img2)\n",
    "cv2.imshow('img3',img3)\n",
    "cv2.waitKey(0)\n",
    "cv2.destroyAllWindows()"
   ]
  },
  {
   "cell_type": "code",
   "execution_count": 58,
   "id": "4e9bab2d",
   "metadata": {},
   "outputs": [],
   "source": [
    "a = img1.flatten"
   ]
  },
  {
   "cell_type": "code",
   "execution_count": 60,
   "id": "d5d6f2f1",
   "metadata": {},
   "outputs": [
    {
     "name": "stdout",
     "output_type": "stream",
     "text": [
      "<built-in method flatten of numpy.ndarray object at 0x0000020253CFDE70>\n"
     ]
    }
   ],
   "source": [
    "print(a)"
   ]
  },
  {
   "cell_type": "code",
   "execution_count": 28,
   "id": "f2a109d2",
   "metadata": {},
   "outputs": [],
   "source": [
    "l = []\n",
    "for i in edged:\n",
    "    if(np.sum([i])!=0):\n",
    "        l.append(i)\n",
    "tem_np = np.array(l)\n",
    "l = []\n",
    "for i in tem_np.transpose():\n",
    "    if(np.sum([i])!=0):\n",
    "        l.append(i)\n",
    "tem = np.array(l)\n",
    "tem = tem.transpose() "
   ]
  },
  {
   "cell_type": "code",
   "execution_count": 29,
   "id": "6d31ca43",
   "metadata": {},
   "outputs": [],
   "source": [
    "cv2.imshow('cropped',tem)\n",
    "cv2.waitKey(0)\n",
    "cv2.destroyAllWindows()"
   ]
  },
  {
   "cell_type": "code",
   "execution_count": 44,
   "id": "e720c6e3",
   "metadata": {},
   "outputs": [],
   "source": [
    "kernel1 = np.ones((8, 8), np.uint8)\n",
    "kernel2 = np.ones((8, 8), np.uint8)\n",
    "img1 = cv2.erode(img, kernel1,iterations=1)\n",
    "img1 = cv2.dilate(img, kernel1,iterations=1)\n",
    "show(img1)\n",
    "# cv2.imshow('image',img)\n",
    "# cv2.imshow('erode image',img1)\n",
    "# cv2.imshow('dilate image',img2)\n",
    "# cv2.waitKey(0)\n",
    "# cv2.destroyAllWindows()"
   ]
  },
  {
   "cell_type": "code",
   "execution_count": 24,
   "id": "a59a1eab",
   "metadata": {},
   "outputs": [],
   "source": [
    "kernel = cv2.getStructuringElement(cv2.MORPH_RECT, (1,2))\n",
    "img = cv2.morphologyEx(img, cv2.MORPH_OPEN, kernel,iterations=1)\n",
    "show(img)"
   ]
  },
  {
   "cell_type": "code",
   "execution_count": 9,
   "id": "08d71a22",
   "metadata": {},
   "outputs": [],
   "source": [
    "\n",
    "\n",
    "# convert to grayscale\n",
    "kernel2 = np.ones((4, 4), np.uint8)\n",
    "# img = cv2.erode(img, kernel2,iterations=1)\n",
    "gray = cv2.cvtColor(img, cv2.COLOR_BGR2GRAY)\n",
    "\n",
    "# blur\n",
    "blur = cv2.GaussianBlur(gray, (0,0), sigmaX=33, sigmaY=33)\n",
    "\n",
    "# divide\n",
    "divide = cv2.divide(gray, blur, scale=255)\n",
    "\n",
    "# otsu threshold\n",
    "thresh = cv2.threshold(divide, 0, 255, cv2.THRESH_BINARY+cv2.THRESH_OTSU)[1]\n",
    "\n",
    "# apply morphology\n",
    "kernel = cv2.getStructuringElement(cv2.MORPH_RECT, (5,5))\n",
    "morph = cv2.morphologyEx(thresh, cv2.MORPH_CLOSE, kernel)\n",
    "# morph = cv2.erode(morph, kernel2,iterations=1)\n",
    "\n",
    "# write result to disk\n",
    "cv2.imwrite(\"hebrew_text_division.jpg\", divide)\n",
    "cv2.imwrite(\"hebrew_text_division_threshold.jpg\", thresh)\n",
    "cv2.imwrite(\"hebrew_text_division_morph.jpg\", morph)\n",
    "\n",
    "# display it\n",
    "cv2.imshow(\"gray\", gray)\n",
    "cv2.imshow(\"divide\", divide)\n",
    "cv2.imshow(\"thresh\", thresh)\n",
    "cv2.imshow(\"morph\", morph)\n",
    "cv2.waitKey(0)\n",
    "cv2.destroyAllWindows()"
   ]
  },
  {
   "cell_type": "code",
   "execution_count": 5,
   "id": "f0e770f5",
   "metadata": {},
   "outputs": [],
   "source": [
    "kernel1 = np.ones((5, 5), np.uint8)\n",
    "kernel2 = np.ones((8, 8), np.uint8)"
   ]
  },
  {
   "cell_type": "code",
   "execution_count": 12,
   "id": "75df1e90",
   "metadata": {},
   "outputs": [],
   "source": [
    "img = cv2.erode(img, kernel1,iterations=1)\n",
    "# img = cv2.morphologyEx(img, cv2.MORPH_OPEN, kernel2)\n",
    "# img = cv2.erode(img, kernel2, iterations=1)\n",
    "# img = cv2.cvtColor(img, cv2.COLOR_BGR2GRAY)\n",
    "# img = cv2.dilate(img, kernel, iterations=1)\n",
    "# img_erosion = cv2.erode(img,kernel,iterations=1)"
   ]
  },
  {
   "cell_type": "code",
   "execution_count": 13,
   "id": "ffb9d35e",
   "metadata": {},
   "outputs": [],
   "source": [
    "edged=cv2.Canny(img,30,200)\n",
    "# img = cv2.morphologyEx(edged, cv2.MORPH_OPEN, kernel2)\n",
    "cv2.imshow('canny edges',img)\n",
    "cv2.waitKey(0)\n",
    "cv2.destroyAllWindows()"
   ]
  },
  {
   "cell_type": "code",
   "execution_count": 8,
   "id": "7643b371",
   "metadata": {},
   "outputs": [],
   "source": [
    "# np.set_printoptions(threshold=sys.maxsize)"
   ]
  },
  {
   "cell_type": "code",
   "execution_count": null,
   "id": "0f0ce6b7",
   "metadata": {},
   "outputs": [],
   "source": [
    "# print(edged)"
   ]
  },
  {
   "cell_type": "code",
   "execution_count": 23,
   "id": "55d651c6",
   "metadata": {},
   "outputs": [],
   "source": [
    "l = []"
   ]
  },
  {
   "cell_type": "code",
   "execution_count": 24,
   "id": "9b9734df",
   "metadata": {},
   "outputs": [],
   "source": [
    "for i in edged:\n",
    "    if(np.sum([i])!=0):\n",
    "        l.append(i)\n",
    "        \n",
    "    "
   ]
  },
  {
   "cell_type": "code",
   "execution_count": 25,
   "id": "eac876d1",
   "metadata": {},
   "outputs": [],
   "source": [
    "tem_np = np.array(l)\n",
    "l = []"
   ]
  },
  {
   "cell_type": "code",
   "execution_count": 26,
   "id": "2870ef2f",
   "metadata": {},
   "outputs": [],
   "source": [
    "for i in tem_np.transpose():\n",
    "    if(np.sum([i])!=0):\n",
    "        l.append(i)"
   ]
  },
  {
   "cell_type": "code",
   "execution_count": 27,
   "id": "2119c6fb",
   "metadata": {},
   "outputs": [],
   "source": [
    "tem = l"
   ]
  },
  {
   "cell_type": "code",
   "execution_count": 28,
   "id": "ce2c1016",
   "metadata": {},
   "outputs": [],
   "source": [
    "tem = np.array(l)\n",
    "tem = tem.transpose()"
   ]
  },
  {
   "cell_type": "code",
   "execution_count": 29,
   "id": "bc812dc1",
   "metadata": {},
   "outputs": [],
   "source": [
    "cv2.imshow('cropped', tem)\n",
    "cv2.waitKey(0)\n",
    "cv2.destroyAllWindows()"
   ]
  },
  {
   "cell_type": "code",
   "execution_count": 36,
   "id": "05fcb440",
   "metadata": {},
   "outputs": [
    {
     "data": {
      "text/plain": [
       "-1"
      ]
     },
     "execution_count": 36,
     "metadata": {},
     "output_type": "execute_result"
    }
   ],
   "source": [
    "\n",
    "\n",
    "\n",
    "# Load image, grayscale, Otsu's threshold\n",
    "image = img\n",
    "gray = cv2.cvtColor(image, cv2.COLOR_BGR2GRAY)\n",
    "thresh = cv2.threshold(gray,0,255,cv2.THRESH_OTSU + cv2.THRESH_BINARY)[1]\n",
    "\n",
    "# Find contours, sort from left-to-right, then crop\n",
    "cnts = cv2.findContours(thresh, cv2.RETR_EXTERNAL, cv2.CHAIN_APPROX_SIMPLE)\n",
    "cnts = cnts[0] if len(cnts) == 2 else cnts[1]\n",
    "cnts, _ = contours.sort_contours(cnts, method=\"left-to-right\")\n",
    "\n",
    "ROI_number = 0\n",
    "for c in cnts:\n",
    "    area = cv2.contourArea(c)\n",
    "    if area > 10:\n",
    "        x,y,w,h = cv2.boundingRect(c)\n",
    "        ROI = 255 - image[y:y+h, x:x+w]\n",
    "        cv2.imwrite('ROI_{}.png'.format(ROI_number), ROI)\n",
    "        cv2.rectangle(image, (x, y), (x + w, y + h), (36,255,12), 2)\n",
    "        ROI_number += 1\n",
    "\n",
    "cv2.imshow('thresh', thresh)\n",
    "cv2.imshow('image', image)\n",
    "cv2.waitKey()"
   ]
  },
  {
   "cell_type": "code",
   "execution_count": 18,
   "id": "29244fe5",
   "metadata": {},
   "outputs": [],
   "source": [
    "tem_np = np.array(tem)"
   ]
  },
  {
   "cell_type": "code",
   "execution_count": 96,
   "id": "619d5290",
   "metadata": {},
   "outputs": [],
   "source": [
    "tem_reshaped = tem_np.reshape(tem_np.shape[1],tem_np.shape[0])"
   ]
  },
  {
   "cell_type": "code",
   "execution_count": 97,
   "id": "7f14140b",
   "metadata": {},
   "outputs": [],
   "source": [
    "cv2.imshow('cropped', tem_np.transpose())\n",
    "cv2.waitKey(0)\n",
    "cv2.destroyAllWindows()"
   ]
  },
  {
   "cell_type": "code",
   "execution_count": null,
   "id": "6b673419",
   "metadata": {},
   "outputs": [],
   "source": [
    "img = cv2.imread('reference/ALPHA.png')\n",
    "img = cv2.cvtColor(img, cv2.COLOR_BGR2GRAY)"
   ]
  },
  {
   "cell_type": "code",
   "execution_count": null,
   "id": "ac265e13",
   "metadata": {},
   "outputs": [],
   "source": [
    "cv2.imshow('cropped', img)\n",
    "cv2.waitKey(0)\n",
    "cv2.destroyAllWindows()"
   ]
  },
  {
   "cell_type": "code",
   "execution_count": null,
   "id": "9110ca8a",
   "metadata": {},
   "outputs": [],
   "source": [
    "print(img)"
   ]
  },
  {
   "cell_type": "code",
   "execution_count": null,
   "id": "f67ab8d8",
   "metadata": {},
   "outputs": [],
   "source": [
    "dic = {'ALPHA':1,'BETA':2,'CHI':3,'DELTA':4,'EPSILON':5,'ETA':6,'GAMMA':7,'IOTA':8,'KAPPA':9,'LAMDA':10,'MU':11,'NU':12,'OMEGA':13,'OMICRON':14,'PHI':15,'PI':16,'PSI':17,'RHO':18,'SIGMA':19,'TAU':20,'THETA':21,'UPSILON':22,'XI':23,'ZETA':24}"
   ]
  },
  {
   "cell_type": "code",
   "execution_count": null,
   "id": "2e97512a",
   "metadata": {},
   "outputs": [],
   "source": [
    "file1 = open(\"labels.txt\",\"w\")\n",
    "\n",
    "with open('train/labels.txt') as openfileobject:\n",
    "    for line in openfileobject:\n",
    "        a = line[:-1].split(',')\n",
    "        file1.write(str(dic[a[0]])+'\\n')\n",
    "        file1.write(str(dic[a[1]])+'\\n')\n",
    "        file1.write(str(dic[a[2]])+'\\n')"
   ]
  },
  {
   "cell_type": "code",
   "execution_count": 46,
   "id": "33da0085",
   "metadata": {},
   "outputs": [],
   "source": [
    "data = []\n",
    "kernel = np.ones((5, 5), np.uint8)\n",
    "for i in range(0,2000):\n",
    "    src = 'train/'+str(i)+'.png'\n",
    "    img = cv2.imread(src)\n",
    "    img = bgremove3(img)\n",
    "#     edged=cv2.Canny(img,100,200)\n",
    "    edged = cv2.cvtColor(img,cv2.COLOR_BGR2GRAY)\n",
    "    img1 = edged[20:130,20:170]\n",
    "    img2 = edged[20:130,200:350]\n",
    "    img3 = edged[20:130,350:500]\n",
    "    img1 = cv2.resize(img1, (50, 50), interpolation = cv2.INTER_AREA)\n",
    "    img2 = cv2.resize(img2, (50, 50), interpolation = cv2.INTER_AREA)\n",
    "    img3 = cv2.resize(img3, (50, 50), interpolation = cv2.INTER_AREA)\n",
    "    data.append(img1.flatten())\n",
    "    data.append(img2.flatten())\n",
    "    data.append(img3.flatten())\n",
    "    "
   ]
  },
  {
   "cell_type": "code",
   "execution_count": 47,
   "id": "ba3e01fb",
   "metadata": {},
   "outputs": [],
   "source": [
    "X = np.array(data)"
   ]
  },
  {
   "cell_type": "code",
   "execution_count": 48,
   "id": "a5a227f6",
   "metadata": {},
   "outputs": [],
   "source": [
    "y = np.loadtxt('labels.txt')"
   ]
  },
  {
   "cell_type": "code",
   "execution_count": 49,
   "id": "4aab8d2e",
   "metadata": {},
   "outputs": [],
   "source": [
    "x_train,x_test,y_train,y_test=train_test_split(X,y,test_size=0.2,random_state=77,stratify=y)"
   ]
  },
  {
   "cell_type": "code",
   "execution_count": 50,
   "id": "0e0be21d",
   "metadata": {},
   "outputs": [
    {
     "data": {
      "text/plain": [
       "(4800, 2500)"
      ]
     },
     "execution_count": 50,
     "metadata": {},
     "output_type": "execute_result"
    }
   ],
   "source": [
    "x_train.shape"
   ]
  },
  {
   "cell_type": "code",
   "execution_count": 51,
   "id": "3f760bc8",
   "metadata": {},
   "outputs": [],
   "source": [
    "clf = OneVsRestClassifier(svm.SVC()).fit(x_train, y_train)"
   ]
  },
  {
   "cell_type": "code",
   "execution_count": 52,
   "id": "30d99780",
   "metadata": {},
   "outputs": [],
   "source": [
    "y_pred = clf.predict(x_test)"
   ]
  },
  {
   "cell_type": "code",
   "execution_count": 53,
   "id": "86d4909f",
   "metadata": {},
   "outputs": [
    {
     "data": {
      "text/plain": [
       "0.8766666666666667"
      ]
     },
     "execution_count": 53,
     "metadata": {},
     "output_type": "execute_result"
    }
   ],
   "source": [
    "accuracy_score(y_pred,y_test)"
   ]
  },
  {
   "cell_type": "code",
   "execution_count": null,
   "id": "33a50e4e",
   "metadata": {},
   "outputs": [],
   "source": []
  }
 ],
 "metadata": {
  "kernelspec": {
   "display_name": "Python 3 (ipykernel)",
   "language": "python",
   "name": "python3"
  },
  "language_info": {
   "codemirror_mode": {
    "name": "ipython",
    "version": 3
   },
   "file_extension": ".py",
   "mimetype": "text/x-python",
   "name": "python",
   "nbconvert_exporter": "python",
   "pygments_lexer": "ipython3",
   "version": "3.9.13"
  }
 },
 "nbformat": 4,
 "nbformat_minor": 5
}
