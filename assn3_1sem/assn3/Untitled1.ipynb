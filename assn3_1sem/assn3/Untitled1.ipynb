{
 "cells": [
  {
   "cell_type": "code",
   "execution_count": 1,
   "id": "f792d6a7",
   "metadata": {},
   "outputs": [],
   "source": [
    "import cv2\n",
    "import numpy as np\n",
    "from matplotlib import pyplot as plt\n",
    "import sys\n",
    "import pytesseract\n",
    "from sklearn import svm\n",
    "from sklearn.multiclass import OneVsRestClassifier\n",
    "from sklearn.model_selection import GridSearchCV\n",
    "from sklearn.model_selection import RandomizedSearchCV\n",
    "from sklearn.model_selection import train_test_split\n",
    "from sklearn.metrics import accuracy_score\n",
    "from imutils import contours"
   ]
  },
  {
   "cell_type": "code",
   "execution_count": 2,
   "id": "e209c896",
   "metadata": {},
   "outputs": [],
   "source": [
    "def show(img):\n",
    "    edged=cv2.Canny(img,100,200)\n",
    "    cv2.imshow('image',img)\n",
    "    cv2.imshow('canny edges',edged)\n",
    "    cv2.waitKey(0)\n",
    "    cv2.destroyAllWindows()\n",
    "    "
   ]
  },
  {
   "cell_type": "code",
   "execution_count": 7,
   "id": "38270558",
   "metadata": {},
   "outputs": [],
   "source": [
    "def bgremove3(myimage):\n",
    "    # BG Remover 3\n",
    "    myimage_hsv = cv2.cvtColor(myimage, cv2.COLOR_BGR2HSV)\n",
    "    kernel = np.ones((8, 8), np.uint8)\n",
    "    myimage_hsv = cv2.erode(myimage_hsv, kernel,iterations=1)\n",
    "     \n",
    "    #Take S and remove any value that is less than half\n",
    "    s = myimage_hsv[:,:,1]\n",
    "    s = np.where(s < 127, 0, 1) # Any value below 127 will be excluded\n",
    " \n",
    "    # We increase the brightness of the image and then mod by 255\n",
    "    v = (myimage_hsv[:,:,2] + 127) % 255\n",
    "    v = np.where(v > 127, 1, 0)  # Any value above 127 will be part of our mask\n",
    " \n",
    "    # Combine our two masks based on S and V into a single \"Foreground\"\n",
    "    foreground = np.where(s+v > 0, 1, 0).astype(np.uint8)  #Casting back into 8bit integer\n",
    " \n",
    "    background = np.where(foreground==0,255,0).astype(np.uint8) # Invert foreground to get background in uint8\n",
    "    background = cv2.cvtColor(background, cv2.COLOR_GRAY2BGR)  # Convert background back into BGR space\n",
    "    foreground=cv2.bitwise_and(myimage,myimage,mask=foreground) # Apply our foreground map to original image\n",
    "    finalimage = background+foreground # Combine foreground and background\n",
    "    return finalimage\n",
    " "
   ]
  },
  {
   "cell_type": "code",
   "execution_count": 8,
   "id": "4a7816cd",
   "metadata": {},
   "outputs": [],
   "source": [
    "img = cv2.imread('train/335.png')\n",
    "img3 = bgremove3(img)\n",
    "kernel = np.ones((6, 6), np.uint8)\n",
    "img3 = cv2.cvtColor(img3,cv2.COLOR_BGR2GRAY)\n",
    "show(img3)"
   ]
  },
  {
   "cell_type": "code",
   "execution_count": null,
   "id": "51941ea4",
   "metadata": {},
   "outputs": [],
   "source": [
    "edged=cv2.Canny(img3,100,200)\n",
    "img1 = edged[20:130,20:170]\n",
    "img2 = edged[20:130,200:350]\n",
    "img3 = edged[20:130,350:500]\n",
    "img1 = cv2.resize(img1, (50, 50), interpolation = cv2.INTER_AREA)\n",
    "img2 = cv2.resize(img2, (50, 50), interpolation = cv2.INTER_AREA)\n",
    "img3 = cv2.resize(img3, (50, 50), interpolation = cv2.INTER_AREA)\n",
    "cv2.imshow('im1',img1)\n",
    "cv2.imshow('img2',img2)\n",
    "cv2.imshow('img3',img3)\n",
    "cv2.waitKey(0)\n",
    "cv2.destroyAllWindows()"
   ]
  },
  {
   "cell_type": "code",
   "execution_count": null,
   "id": "c94d2991",
   "metadata": {},
   "outputs": [],
   "source": []
  }
 ],
 "metadata": {
  "kernelspec": {
   "display_name": "Python 3 (ipykernel)",
   "language": "python",
   "name": "python3"
  },
  "language_info": {
   "codemirror_mode": {
    "name": "ipython",
    "version": 3
   },
   "file_extension": ".py",
   "mimetype": "text/x-python",
   "name": "python",
   "nbconvert_exporter": "python",
   "pygments_lexer": "ipython3",
   "version": "3.9.13"
  }
 },
 "nbformat": 4,
 "nbformat_minor": 5
}
